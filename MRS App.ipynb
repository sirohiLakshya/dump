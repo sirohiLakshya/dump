{
 "cells": [
  {
   "cell_type": "code",
   "execution_count": 1,
   "id": "eb4d9f08",
   "metadata": {},
   "outputs": [],
   "source": [
    "from flask import Flask, request, jsonify\n",
    "import pickle\n",
    "from flask_ngrok import run_with_ngrok\n",
    "import pandas as pd"
   ]
  },
  {
   "cell_type": "code",
   "execution_count": 2,
   "id": "d22ac3de",
   "metadata": {},
   "outputs": [],
   "source": [
    "# Intialise the app\n",
    "app = Flask(__name__)\n",
    "# We will run the app using ngrok\n",
    "run_with_ngrok(app)"
   ]
  },
  {
   "cell_type": "code",
   "execution_count": 3,
   "id": "c20c91b6",
   "metadata": {},
   "outputs": [],
   "source": [
    "# Load the ML model and other required data\n",
    "similarity = pickle.load(open('similarity.pkl', 'rb'))\n",
    "movie_dict = pickle.load(open('movie_dict.pkl', 'rb'))\n",
    "movies = pd.DataFrame(movie_dict)"
   ]
  },
  {
   "cell_type": "code",
   "execution_count": 4,
   "id": "414408f6",
   "metadata": {},
   "outputs": [],
   "source": [
    "#  Create a route on our localmachine\n",
    "@app.route('/mrs', methods=['POST'])\n",
    "def recommendations():\n",
    "    movie = request.args.get('movieName')\n",
    "    movie_index = movies[movies['title'] == movie].index[0]  # Getting the index of the movies\n",
    "    distances = similarity[movie_index]\n",
    "    movies_list = sorted(list(enumerate(distances)), reverse=True, key=lambda x: x[1])[1:11]\n",
    "\n",
    "    recommended_movies = []\n",
    "    for i in movies_list:\n",
    "        recommended_movies.append(movies.iloc[i[0]].title)\n",
    "    return jsonify(recommended_movies)"
   ]
  },
  {
   "cell_type": "code",
   "execution_count": null,
   "id": "ae53dd33",
   "metadata": {},
   "outputs": [
    {
     "name": "stdout",
     "output_type": "stream",
     "text": [
      " * Serving Flask app \"__main__\" (lazy loading)\n",
      " * Environment: production\n",
      "\u001b[31m   WARNING: This is a development server. Do not use it in a production deployment.\u001b[0m\n",
      "\u001b[2m   Use a production WSGI server instead.\u001b[0m\n",
      " * Debug mode: off\n"
     ]
    },
    {
     "name": "stderr",
     "output_type": "stream",
     "text": [
      " * Running on http://127.0.0.1:5000/ (Press CTRL+C to quit)\n",
      "Exception in thread Thread-8:\n",
      "Traceback (most recent call last):\n",
      "  File \"C:\\Users\\Hp\\New folder\\lib\\threading.py\", line 973, in _bootstrap_inner\n",
      "    self.run()\n",
      "  File \"C:\\Users\\Hp\\New folder\\lib\\threading.py\", line 1286, in run\n",
      "    self.function(*self.args, **self.kwargs)\n",
      "  File \"C:\\Users\\Hp\\New folder\\lib\\site-packages\\flask_ngrok.py\", line 70, in start_ngrok\n",
      "    ngrok_address = _run_ngrok()\n",
      "  File \"C:\\Users\\Hp\\New folder\\lib\\site-packages\\flask_ngrok.py\", line 38, in _run_ngrok\n",
      "    tunnel_url = j['tunnels'][0]['public_url']  # Do the parsing of the get\n",
      "IndexError: list index out of range\n"
     ]
    }
   ],
   "source": [
    "if __name__ == '__main__':\n",
    "    app.run()"
   ]
  },
  {
   "cell_type": "code",
   "execution_count": null,
   "id": "16841307",
   "metadata": {},
   "outputs": [],
   "source": []
  }
 ],
 "metadata": {
  "kernelspec": {
   "display_name": "Python 3 (ipykernel)",
   "language": "python",
   "name": "python3"
  },
  "language_info": {
   "codemirror_mode": {
    "name": "ipython",
    "version": 3
   },
   "file_extension": ".py",
   "mimetype": "text/x-python",
   "name": "python",
   "nbconvert_exporter": "python",
   "pygments_lexer": "ipython3",
   "version": "3.9.7"
  }
 },
 "nbformat": 4,
 "nbformat_minor": 5
}
